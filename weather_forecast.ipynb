{
 "cells": [
  {
   "cell_type": "code",
   "execution_count": 1,
   "id": "6cd1a55e",
   "metadata": {},
   "outputs": [],
   "source": [
    "import requests\n",
    "import json\n",
    "from datetime import datetime, timezone"
   ]
  },
  {
   "cell_type": "code",
   "execution_count": 2,
   "id": "64dc4d34",
   "metadata": {},
   "outputs": [],
   "source": [
    "API_TOKEN = 'sova'\n",
    "WEATHER_API_KEY = '3P5243M7ZJBAQWKJUZAGD2MKV'"
   ]
  },
  {
   "cell_type": "code",
   "execution_count": 3,
   "id": "9bce914b",
   "metadata": {},
   "outputs": [],
   "source": [
    "def get_weather(location, date):\n",
    "    url = f'https://weather.visualcrossing.com/VisualCrossingWebServices/rest/services/timeline/{location}?unitGroup=metric&key={WEATHER_API_KEY}&contentType=json&date={date}'\n",
    "    response = requests.get(url)\n",
    "    if response.status_code == requests.codes.ok:\n",
    "        return json.loads(response.text)\n",
    "    else:\n",
    "        raise Exception(f'Failed to fetch weather data: {response.status_code}, {response.text}')"
   ]
  },
  {
   "cell_type": "code",
   "execution_count": 4,
   "id": "b473d629",
   "metadata": {},
   "outputs": [],
   "source": [
    "token = 'sova'\n",
    "requester_name = 'Komar Sofiia'\n",
    "location = 'Kyiv,Ukraine'\n",
    "date = '2024-02-09'"
   ]
  },
  {
   "cell_type": "code",
   "execution_count": 5,
   "id": "8e7305ae",
   "metadata": {},
   "outputs": [],
   "source": [
    "if token != API_TOKEN:\n",
    "    print('Invalid token')\n",
    "    exit()"
   ]
  },
  {
   "cell_type": "code",
   "execution_count": 6,
   "id": "acb13d22",
   "metadata": {},
   "outputs": [],
   "source": [
    "weather_data = get_weather(location, date)\n",
    "timestamp = datetime.utcnow().replace(tzinfo=timezone.utc).isoformat()"
   ]
  },
  {
   "cell_type": "code",
   "execution_count": 7,
   "id": "8bb12a63",
   "metadata": {},
   "outputs": [],
   "source": [
    "recommendation = ''\n",
    "if 'rain' in weather_data['days'][0]['conditions'].lower():\n",
    "    recommendation = 'It is recommended to take an umbrella.'\n",
    "elif 'sun' in weather_data['days'][0]['conditions'].lower():\n",
    "    recommendation = 'It is recommended to take sunglasses.'"
   ]
  },
  {
   "cell_type": "code",
   "execution_count": 10,
   "id": "45c7a341",
   "metadata": {},
   "outputs": [
    {
     "name": "stdout",
     "output_type": "stream",
     "text": [
      "{\n",
      "    \"requester_name\": \"Komar Sofiia\",\n",
      "    \"timestamp\": \"2024-02-09T17:21:23.907111+00:00\",\n",
      "    \"location\": \"Kyiv,Ukraine\",\n",
      "    \"date\": \"2024-02-09\",\n",
      "    \"weather\": {\n",
      "        \"windspeed\": 11.2,\n",
      "        \"temp\": -1.0,\n",
      "        \"humidity\": 93.3,\n",
      "        \"cloudcover\": 98.9,\n",
      "        \"feelslike\": -4.2,\n",
      "        \"description\": \"Cloudy skies throughout the day with a chance of rain or snow throughout the day.\",\n",
      "        \"sunrise\": \"07:21:16\",\n",
      "        \"sunset\": \"17:03:43\",\n",
      "        \"visibility\": 8.1,\n",
      "        \"snow\": 5.5,\n",
      "        \"conditions\": \"Snow, Rain, Overcast\",\n",
      "        \"recommendation\": \"It is recommended to take an umbrella.\"\n",
      "    }\n",
      "}\n"
     ]
    }
   ],
   "source": [
    "result = {\n",
    "    'requester_name': requester_name,\n",
    "    'timestamp': timestamp,\n",
    "    'location': location,\n",
    "    'date': date,\n",
    "    'weather':{\n",
    "        'windspeed': weather_data['days'][0]['windspeed'],\n",
    "        'temp': weather_data['days'][0]['temp'],\n",
    "        'humidity': weather_data['days'][0]['humidity'],\n",
    "        'cloudcover': weather_data['days'][0]['cloudcover'],\n",
    "        'feelslike': weather_data['days'][0]['feelslike'],\n",
    "        'description': weather_data['days'][0]['description'],\n",
    "        'sunrise': weather_data['days'][0]['sunrise'],\n",
    "        'sunset': weather_data['days'][0]['sunset'],\n",
    "        'visibility': weather_data['days'][0]['visibility'],\n",
    "        'snow': weather_data['days'][0]['snow'],\n",
    "        'conditions': weather_data['days'][0]['conditions'],\n",
    "        'recommendation': recommendation\n",
    "    }\n",
    "}\n",
    "print(json.dumps(result, indent=4))"
   ]
  }
 ],
 "metadata": {
  "kernelspec": {
   "display_name": "Python 3 (ipykernel)",
   "language": "python",
   "name": "python3"
  },
  "language_info": {
   "codemirror_mode": {
    "name": "ipython",
    "version": 3
   },
   "file_extension": ".py",
   "mimetype": "text/x-python",
   "name": "python",
   "nbconvert_exporter": "python",
   "pygments_lexer": "ipython3",
   "version": "3.11.3"
  }
 },
 "nbformat": 4,
 "nbformat_minor": 5
}
